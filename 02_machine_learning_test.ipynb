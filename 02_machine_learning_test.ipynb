{
 "cells": [
  {
   "cell_type": "markdown",
   "id": "f53ef2e2",
   "metadata": {},
   "source": [
    "<h1><center>SAP IES AICOE TAKE-HOME TEST </center></h1>\n",
    "<h2><center> Machine Learning </center></h2>"
   ]
  },
  {
   "cell_type": "markdown",
   "id": "be8c4275",
   "metadata": {},
   "source": [
    "# Please choose <font color=\"red\">ONLY 1</font> part of your interest: either Part A or B"
   ]
  },
  {
   "cell_type": "markdown",
   "id": "3ab2fcdd",
   "metadata": {},
   "source": [
    "# <font color=\"blue\">Part A</font>"
   ]
  },
  {
   "cell_type": "markdown",
   "id": "ce40cdf4",
   "metadata": {},
   "source": [
    "## Guideline:\n",
    "\n",
    "- File to use: **contract_dataset_v20220109.csv**\n",
    "- Train a **MULTI-CLASS CLASSIFICATION MODEL**. Your final model should be able to take in a test clause (column `provision`) and predict its provision type (column `label`). \n",
    "- Perform your own train-test split.\n",
    "- Choose your own evaluation metrics and explain your choice(s).\n",
    "- You may refer to, and/or copy code blocks from any public Github repositories, Kaggle kernels or tutorials online. However, please add a comment indicating the source.\n",
    "- You are free to conduct exploratory data analysis, write unit tests or any other additional steps as you find neccesary.\n",
    "- The purpose is NOT to train the best-performing model. It is to help us assess your ability to learn and apply NLP modelling techniques."
   ]
  },
  {
   "cell_type": "markdown",
   "id": "29ba56d7",
   "metadata": {},
   "source": [
    "## Answer:"
   ]
  },
  {
   "cell_type": "code",
   "execution_count": 186,
   "id": "e9314cca",
   "metadata": {},
   "outputs": [],
   "source": [
    "# Set Up Notebook\n",
    "import numpy as np\n",
    "import pandas as pd\n",
    "import seaborn as sns\n",
    "import matplotlib.pyplot as plt\n",
    "\n",
    "from sklearn.utils import shuffle\n",
    "from sklearn.model_selection import train_test_split\n",
    "from sklearn.feature_extraction.text import TfidfVectorizer\n",
    "from sklearn.multioutput import MultiOutputClassifier\n",
    "from sklearn.linear_model import LogisticRegression\n",
    "from sklearn.metrics import roc_auc_score\n",
    "from sklearn.metrics import accuracy_score\n",
    "from sklearn.metrics import multilabel_confusion_matrix\n",
    "from sklearn.metrics import classification_report"
   ]
  },
  {
   "cell_type": "code",
   "execution_count": null,
   "id": "e3918daa",
   "metadata": {},
   "outputs": [],
   "source": [
    "# Read Input File\n",
    "csv = pd.read_csv(\"../data/contract_dataset_v20220109.csv\")\n",
    "csv = csv.drop(columns=['source', 'Contract_Dates', 'Passwords'])"
   ]
  },
  {
   "cell_type": "markdown",
   "id": "4e40a783",
   "metadata": {},
   "source": [
    "#### Exploratory Data Analysis\n",
    "The count plot is a quick way to visualise the breakdown of the labels. We observe that most contracts are about 'governing laws'. We also observe that there is no clear label that dominates the dataset, so there is no need for special techniques like oversampling, class-weighting, or threshold finetuning that are conventionally applied for imbalanced datasets."
   ]
  },
  {
   "cell_type": "code",
   "execution_count": 20,
   "id": "311a87a9",
   "metadata": {},
   "outputs": [
    {
     "data": {
      "image/png": "[encoded data removed]",
      "text/plain": [
       "<Figure size 576x360 with 1 Axes>"
      ]
     },
     "metadata": {
      "needs_background": "light"
     },
     "output_type": "display_data"
    }
   ],
   "source": [
    "#Visualise Count Plot\n",
    "plt.figure(figsize=(8,5))\n",
    "sns.countplot(x=csv[\"label\"])\n",
    "plt.xticks(rotation=60)\n",
    "plt.show()"
   ]
  },
  {
   "cell_type": "markdown",
   "id": "c9aab29a",
   "metadata": {},
   "source": [
    "#### Supervised Learning vs NLP\n",
    "It is well known that conventional supervised learning methods do not perform well on NLP. For example, if we were to run a\n",
    "decision tree classifier (where each word is a feature used to predict the label of the contract), we would run into several problems. First, there would be an enormous amount of features, implying a gigantic (and likely overfitted) tree. Second, the same words might suggest different classifications under different context. These will likely lead to poor classification performance. NLP techniques are therefore important in working with such datasets. "
   ]
  },
  {
   "cell_type": "markdown",
   "id": "cb61ee83",
   "metadata": {},
   "source": [
    "#### Data Cleaning\n",
    "As text data often contain numerous typography errors and formatting issues, it is customary to perform data cleaning before performing classification. In our context, contractual data is unlikely to contain typography errors, so we should not need to rectify spelling issues. Neither do we need to lemmatise or stem our words because contracts are typically written in accurate English and because we want to capture the grammatical differences between certain words (\"owe\" for example will frequently be used differently from \"owing\"). \n",
    "\n",
    "However, we might want to correct errors that arise from formatting. We do so by defining a list of valid characters and removing characters that are not in this list. Note that punctuations have also been removed because they are unlikely to add much value in determining the label of the contract."
   ]
  },
  {
   "cell_type": "code",
   "execution_count": 21,
   "id": "a0085b81",
   "metadata": {},
   "outputs": [],
   "source": [
    "valid = \"abcdefghijklmnopqrstuvwxyz \" #define list of valid characters\n",
    "\n",
    "def clean_text(data):\n",
    "    \"\"\"\n",
    "    This function takes in a dataframe with the column \"label\". It cleans the text for each row in that column, and replaces the\n",
    "    column \"label\" with the cleaned column before returning the dataframe.\n",
    "    \"\"\"\n",
    "    output = [] #define variable to store cleaned text\n",
    "    \n",
    "    for line in data[\"provision\"]:\n",
    "        line = line.lower()\n",
    "        cleaned_line = ''.join(c for c in line if c in valid) #join valid characters together\n",
    "        output.append(cleaned_line)\n",
    "    data[\"provision\"] = output #update dataframe column with cleaned output array\n",
    "    \n",
    "    return data"
   ]
  },
  {
   "cell_type": "code",
   "execution_count": 22,
   "id": "f6c7e487",
   "metadata": {},
   "outputs": [
    {
     "data": {
      "text/html": [
       "<div>\n",
       "<style scoped>\n",
       "    .dataframe tbody tr th:only-of-type {\n",
       "        vertical-align: middle;\n",
       "    }\n",
       "\n",
       "    .dataframe tbody tr th {\n",
       "        vertical-align: top;\n",
       "    }\n",
       "\n",
       "    .dataframe thead th {\n",
       "        text-align: right;\n",
       "    }\n",
       "</style>\n",
       "<table border=\"1\" class=\"dataframe\">\n",
       "  <thead>\n",
       "    <tr style=\"text-align: right;\">\n",
       "      <th></th>\n",
       "      <th>provision</th>\n",
       "      <th>label</th>\n",
       "    </tr>\n",
       "  </thead>\n",
       "  <tbody>\n",
       "    <tr>\n",
       "      <th>0</th>\n",
       "      <td>borrower and any endorsers or guarantors hereo...</td>\n",
       "      <td>['waivers']</td>\n",
       "    </tr>\n",
       "    <tr>\n",
       "      <th>1</th>\n",
       "      <td>no failure to exercise and no delay in exercis...</td>\n",
       "      <td>['waivers']</td>\n",
       "    </tr>\n",
       "    <tr>\n",
       "      <th>2</th>\n",
       "      <td>until the discharge of senior lender claims ha...</td>\n",
       "      <td>['waivers']</td>\n",
       "    </tr>\n",
       "    <tr>\n",
       "      <th>3</th>\n",
       "      <td>neither party shall be deemed to have waived a...</td>\n",
       "      <td>['waivers']</td>\n",
       "    </tr>\n",
       "    <tr>\n",
       "      <th>4</th>\n",
       "      <td>no waiver of the provisions hereof shall be va...</td>\n",
       "      <td>['waivers']</td>\n",
       "    </tr>\n",
       "  </tbody>\n",
       "</table>\n",
       "</div>"
      ],
      "text/plain": [
       "                                           provision        label\n",
       "0  borrower and any endorsers or guarantors hereo...  ['waivers']\n",
       "1  no failure to exercise and no delay in exercis...  ['waivers']\n",
       "2  until the discharge of senior lender claims ha...  ['waivers']\n",
       "3  neither party shall be deemed to have waived a...  ['waivers']\n",
       "4  no waiver of the provisions hereof shall be va...  ['waivers']"
      ]
     },
     "execution_count": 22,
     "metadata": {},
     "output_type": "execute_result"
    }
   ],
   "source": [
    "clean_csv = clean_text(csv)\n",
    "clean_csv.head()"
   ]
  },
  {
   "cell_type": "markdown",
   "id": "3f36b11a",
   "metadata": {},
   "source": [
    "#### TF-IDF\n",
    "The Term Frequency - Inverse Document Frequency is a classic NLP technique that uses the frequency of words to determine how important the words are. We can use TF-IDF to select words that are important and use them as features to perform classification. Another advantage of TF-IDF is that we can visualise which words are more important (and how much more important), which provides us valuable insight into whether our model makes intuitive sense. \n",
    "\n",
    "To quantify the accuracy of our model, we first perform a train-test split. As the data labels tend to be bunched together (the following row will likely have the same label as the current row), we shuffle our dataset for a fairer split."
   ]
  },
  {
   "cell_type": "code",
   "execution_count": 37,
   "id": "e372ba8b",
   "metadata": {},
   "outputs": [],
   "source": [
    "#Perform Train-Test Split\n",
    "shuffled = shuffle(clean_csv)\n",
    "shuffled = pd.get_dummies(shuffled, prefix=['lab'], columns=['label']) #perform encoding for multi-class classification\n",
    "X = shuffled['provision']\n",
    "y = shuffled.drop('provision', axis=1)\n",
    "X_train, X_test, y_train, y_test = train_test_split(X, y, train_size=0.8)"
   ]
  },
  {
   "cell_type": "code",
   "execution_count": 69,
   "id": "8b3f1063",
   "metadata": {},
   "outputs": [],
   "source": [
    "#Train TF-IDF Model\n",
    "vectorizer = TfidfVectorizer(max_features=2000, ngram_range=(1, 1)) #initialise TF-IDF model\n",
    "X_train_vec = vectorizer.fit_transform(X_train)\n",
    "X_test_vec = vectorizer.transform(X_test)"
   ]
  },
  {
   "cell_type": "code",
   "execution_count": 70,
   "id": "dce7047f",
   "metadata": {},
   "outputs": [],
   "source": [
    "#Train Classifier Model\n",
    "clf = MultiOutputClassifier(LogisticRegression(class_weight='balanced', max_iter=5000)) #initialise logistic classifier\n",
    "clf.fit(X_train_vec, y_train)\n",
    "y_pred = np.transpose(np.array(clf.predict_proba(X_test_vec))[:,:,1])"
   ]
  },
  {
   "cell_type": "code",
   "execution_count": 75,
   "id": "a1bc7ed2",
   "metadata": {},
   "outputs": [
    {
     "name": "stdout",
     "output_type": "stream",
     "text": [
      "The ROC AUC score is 0.99954\n"
     ]
    }
   ],
   "source": [
    "#Test ROC AUC Score\n",
    "auc = roc_auc_score(y_test, y_pred)\n",
    "print(\"The ROC AUC score is\", round(auc, 5))"
   ]
  },
  {
   "cell_type": "code",
   "execution_count": 193,
   "id": "23870f96",
   "metadata": {},
   "outputs": [
    {
     "name": "stdout",
     "output_type": "stream",
     "text": [
      "The classification accuracy is 0.96339\n"
     ]
    }
   ],
   "source": [
    "#Test Accuracy Score\n",
    "accuracy = clf.score(X_test_vec, y_test)\n",
    "print(\"The classification accuracy is\", round(accuracy, 5))"
   ]
  },
  {
   "cell_type": "code",
   "execution_count": 151,
   "id": "17c6406d",
   "metadata": {},
   "outputs": [
    {
     "name": "stdout",
     "output_type": "stream",
     "text": [
      "[[[5850   79]\n",
      "  [  18  963]]\n",
      "\n",
      " [[5073    9]\n",
      "  [   8 1820]]\n",
      "\n",
      " [[4369    4]\n",
      "  [   6 2531]]\n",
      "\n",
      " [[6885    0]\n",
      "  [   1   24]]\n",
      "\n",
      " [[6122   52]\n",
      "  [   5  731]]\n",
      "\n",
      " [[6899    0]\n",
      "  [   0   11]]\n",
      "\n",
      " [[6902    0]\n",
      "  [   0    8]]\n",
      "\n",
      " [[6890    0]\n",
      "  [   0   20]]\n",
      "\n",
      " [[6177   82]\n",
      "  [  16  635]]\n",
      "\n",
      " [[6772   25]\n",
      "  [   2  111]]]\n"
     ]
    }
   ],
   "source": [
    "#Test Confusion Matrix\n",
    "y_test_cm = y_test.to_numpy()\n",
    "y_pred_cm = np.array(clf.predict(X_test_vec))\n",
    "cm = multilabel_confusion_matrix(y_test_cm, y_pred_cm)\n",
    "print(cm)"
   ]
  },
  {
   "cell_type": "code",
   "execution_count": 89,
   "id": "bc45197c",
   "metadata": {},
   "outputs": [
    {
     "name": "stdout",
     "output_type": "stream",
     "text": [
      "              precision    recall  f1-score   support\n",
      "\n",
      "           0       0.92      0.98      0.95       981\n",
      "           1       1.00      1.00      1.00      1828\n",
      "           2       1.00      1.00      1.00      2537\n",
      "           3       1.00      0.96      0.98        25\n",
      "           4       0.93      0.99      0.96       736\n",
      "           5       1.00      1.00      1.00        11\n",
      "           6       1.00      1.00      1.00         8\n",
      "           7       1.00      1.00      1.00        20\n",
      "           8       0.89      0.98      0.93       651\n",
      "           9       0.82      0.98      0.89       113\n",
      "\n",
      "   micro avg       0.96      0.99      0.98      6910\n",
      "   macro avg       0.96      0.99      0.97      6910\n",
      "weighted avg       0.97      0.99      0.98      6910\n",
      " samples avg       0.98      0.99      0.98      6910\n",
      "\n"
     ]
    },
    {
     "name": "stderr",
     "output_type": "stream",
     "text": [
      "C:\\Users\\Tan Ning Xuan\\anaconda3\\lib\\site-packages\\sklearn\\metrics\\_classification.py:1318: UndefinedMetricWarning: Precision and F-score are ill-defined and being set to 0.0 in samples with no predicted labels. Use `zero_division` parameter to control this behavior.\n",
      "  _warn_prf(average, modifier, msg_start, len(result))\n"
     ]
    }
   ],
   "source": [
    "#Test Classification Report\n",
    "print(classification_report(y_test_cm, y_pred_cm))"
   ]
  },
  {
   "cell_type": "markdown",
   "id": "33a91e4a",
   "metadata": {},
   "source": [
    "From the results above, we observe that the TF-IDF logistic classifier is highly efficient with an ROC AUC score of close to 1. On the whole, we also observe that the classification accuracy and overall F1-score (which accounts for both the precision and recall) are all very high. Diving into the confusion matrix, we also observe that most categories are very well-classified. From the classification report, the classifier seemed to have slightly more difficulty labelling contracts for \"waivers\" and \"warranties\", perhaps because these contracts constitute a small proportion of the overall contract database, so their features were more easily dominated by other classes. To understand what went on behind the classification, we need understand which features played a larger role in which classification."
   ]
  },
  {
   "cell_type": "markdown",
   "id": "974e7653",
   "metadata": {},
   "source": [
    "#### Feature Importance\n",
    "As mentioned earlier, understanding the feature importance is a one huge benefit of the TF-IDF algorithm. The table below shows some of the features and their score (an indicator of importance) for predicting each class. We can go one step further and plot the most important features of each class, which can give us some insight into which features are important for which class. The results are very sensible, and words that were found to be the most important are often the most closely related to the label of each class."
   ]
  },
  {
   "cell_type": "code",
   "execution_count": 181,
   "id": "fe294993",
   "metadata": {},
   "outputs": [
    {
     "data": {
      "text/html": [
       "<div>\n",
       "<style scoped>\n",
       "    .dataframe tbody tr th:only-of-type {\n",
       "        vertical-align: middle;\n",
       "    }\n",
       "\n",
       "    .dataframe tbody tr th {\n",
       "        vertical-align: top;\n",
       "    }\n",
       "\n",
       "    .dataframe thead th {\n",
       "        text-align: right;\n",
       "    }\n",
       "</style>\n",
       "<table border=\"1\" class=\"dataframe\">\n",
       "  <thead>\n",
       "    <tr style=\"text-align: right;\">\n",
       "      <th></th>\n",
       "      <th>Feature</th>\n",
       "      <th>Amendments</th>\n",
       "      <th>Counterparts</th>\n",
       "      <th>Governing Laws</th>\n",
       "      <th>Government Regulations</th>\n",
       "      <th>Terminations</th>\n",
       "      <th>Trade Relations</th>\n",
       "      <th>Trading Activities</th>\n",
       "      <th>Valid Issuances</th>\n",
       "      <th>Waivers</th>\n",
       "      <th>Warranties</th>\n",
       "    </tr>\n",
       "  </thead>\n",
       "  <tbody>\n",
       "    <tr>\n",
       "      <th>0</th>\n",
       "      <td>aany</td>\n",
       "      <td>-0.277528</td>\n",
       "      <td>-0.017986</td>\n",
       "      <td>-0.076484</td>\n",
       "      <td>-0.027024</td>\n",
       "      <td>-0.18339</td>\n",
       "      <td>-0.00947</td>\n",
       "      <td>-0.003987</td>\n",
       "      <td>-0.007426</td>\n",
       "      <td>0.279777</td>\n",
       "      <td>-0.086774</td>\n",
       "    </tr>\n",
       "    <tr>\n",
       "      <th>1</th>\n",
       "      <td>abandoned</td>\n",
       "      <td>-0.469055</td>\n",
       "      <td>-0.046163</td>\n",
       "      <td>-0.143182</td>\n",
       "      <td>-0.024788</td>\n",
       "      <td>1.554058</td>\n",
       "      <td>-0.010662</td>\n",
       "      <td>-0.013867</td>\n",
       "      <td>-0.017381</td>\n",
       "      <td>-0.392598</td>\n",
       "      <td>-0.109987</td>\n",
       "    </tr>\n",
       "    <tr>\n",
       "      <th>2</th>\n",
       "      <td>abandonment</td>\n",
       "      <td>0.268901</td>\n",
       "      <td>-0.015511</td>\n",
       "      <td>-0.023049</td>\n",
       "      <td>-0.022673</td>\n",
       "      <td>0.371771</td>\n",
       "      <td>-0.01191</td>\n",
       "      <td>-0.003346</td>\n",
       "      <td>-0.011001</td>\n",
       "      <td>-0.207962</td>\n",
       "      <td>-0.058737</td>\n",
       "    </tr>\n",
       "    <tr>\n",
       "      <th>3</th>\n",
       "      <td>ability</td>\n",
       "      <td>0.404732</td>\n",
       "      <td>-0.023217</td>\n",
       "      <td>-0.26503</td>\n",
       "      <td>1.293564</td>\n",
       "      <td>-0.624413</td>\n",
       "      <td>0.803114</td>\n",
       "      <td>-0.02601</td>\n",
       "      <td>-0.048988</td>\n",
       "      <td>-0.085209</td>\n",
       "      <td>-0.175149</td>\n",
       "    </tr>\n",
       "    <tr>\n",
       "      <th>4</th>\n",
       "      <td>abl</td>\n",
       "      <td>1.172814</td>\n",
       "      <td>-0.068457</td>\n",
       "      <td>-0.139958</td>\n",
       "      <td>-0.038947</td>\n",
       "      <td>-0.205701</td>\n",
       "      <td>-0.005909</td>\n",
       "      <td>-0.006058</td>\n",
       "      <td>-0.015945</td>\n",
       "      <td>0.022596</td>\n",
       "      <td>-0.146699</td>\n",
       "    </tr>\n",
       "    <tr>\n",
       "      <th>5</th>\n",
       "      <td>above</td>\n",
       "      <td>-0.64615</td>\n",
       "      <td>0.515254</td>\n",
       "      <td>0.116613</td>\n",
       "      <td>-0.171076</td>\n",
       "      <td>0.750559</td>\n",
       "      <td>-0.055861</td>\n",
       "      <td>-0.05702</td>\n",
       "      <td>-0.104138</td>\n",
       "      <td>-0.490472</td>\n",
       "      <td>-0.342463</td>\n",
       "    </tr>\n",
       "    <tr>\n",
       "      <th>6</th>\n",
       "      <td>abovenamed</td>\n",
       "      <td>-0.018341</td>\n",
       "      <td>-0.00747</td>\n",
       "      <td>0.076632</td>\n",
       "      <td>-0.011563</td>\n",
       "      <td>-0.006089</td>\n",
       "      <td>-0.002902</td>\n",
       "      <td>-0.003122</td>\n",
       "      <td>-0.002777</td>\n",
       "      <td>-0.053449</td>\n",
       "      <td>-0.057098</td>\n",
       "    </tr>\n",
       "    <tr>\n",
       "      <th>7</th>\n",
       "      <td>absence</td>\n",
       "      <td>-0.209746</td>\n",
       "      <td>-0.032564</td>\n",
       "      <td>-0.047418</td>\n",
       "      <td>-0.084167</td>\n",
       "      <td>-0.153066</td>\n",
       "      <td>-0.013168</td>\n",
       "      <td>-0.016095</td>\n",
       "      <td>-0.01677</td>\n",
       "      <td>0.291567</td>\n",
       "      <td>-0.066069</td>\n",
       "    </tr>\n",
       "    <tr>\n",
       "      <th>8</th>\n",
       "      <td>absolute</td>\n",
       "      <td>-0.451077</td>\n",
       "      <td>-0.05937</td>\n",
       "      <td>-0.175353</td>\n",
       "      <td>-0.065039</td>\n",
       "      <td>1.461712</td>\n",
       "      <td>-0.031278</td>\n",
       "      <td>-0.034094</td>\n",
       "      <td>-0.06258</td>\n",
       "      <td>0.126886</td>\n",
       "      <td>-0.306819</td>\n",
       "    </tr>\n",
       "    <tr>\n",
       "      <th>9</th>\n",
       "      <td>absolutely</td>\n",
       "      <td>-0.070214</td>\n",
       "      <td>-0.016278</td>\n",
       "      <td>-0.128477</td>\n",
       "      <td>-0.015098</td>\n",
       "      <td>-0.101383</td>\n",
       "      <td>-0.004428</td>\n",
       "      <td>-0.003968</td>\n",
       "      <td>-0.006499</td>\n",
       "      <td>0.173448</td>\n",
       "      <td>0.124667</td>\n",
       "    </tr>\n",
       "  </tbody>\n",
       "</table>\n",
       "</div>"
      ],
      "text/plain": [
       "       Feature Amendments Counterparts Governing Laws Government Regulations  \\\n",
       "0         aany  -0.277528    -0.017986      -0.076484              -0.027024   \n",
       "1    abandoned  -0.469055    -0.046163      -0.143182              -0.024788   \n",
       "2  abandonment   0.268901    -0.015511      -0.023049              -0.022673   \n",
       "3      ability   0.404732    -0.023217       -0.26503               1.293564   \n",
       "4          abl   1.172814    -0.068457      -0.139958              -0.038947   \n",
       "5        above   -0.64615     0.515254       0.116613              -0.171076   \n",
       "6   abovenamed  -0.018341     -0.00747       0.076632              -0.011563   \n",
       "7      absence  -0.209746    -0.032564      -0.047418              -0.084167   \n",
       "8     absolute  -0.451077     -0.05937      -0.175353              -0.065039   \n",
       "9   absolutely  -0.070214    -0.016278      -0.128477              -0.015098   \n",
       "\n",
       "  Terminations Trade Relations Trading Activities Valid Issuances   Waivers  \\\n",
       "0     -0.18339        -0.00947          -0.003987       -0.007426  0.279777   \n",
       "1     1.554058       -0.010662          -0.013867       -0.017381 -0.392598   \n",
       "2     0.371771        -0.01191          -0.003346       -0.011001 -0.207962   \n",
       "3    -0.624413        0.803114           -0.02601       -0.048988 -0.085209   \n",
       "4    -0.205701       -0.005909          -0.006058       -0.015945  0.022596   \n",
       "5     0.750559       -0.055861           -0.05702       -0.104138 -0.490472   \n",
       "6    -0.006089       -0.002902          -0.003122       -0.002777 -0.053449   \n",
       "7    -0.153066       -0.013168          -0.016095        -0.01677  0.291567   \n",
       "8     1.461712       -0.031278          -0.034094        -0.06258  0.126886   \n",
       "9    -0.101383       -0.004428          -0.003968       -0.006499  0.173448   \n",
       "\n",
       "  Warranties  \n",
       "0  -0.086774  \n",
       "1  -0.109987  \n",
       "2  -0.058737  \n",
       "3  -0.175149  \n",
       "4  -0.146699  \n",
       "5  -0.342463  \n",
       "6  -0.057098  \n",
       "7  -0.066069  \n",
       "8  -0.306819  \n",
       "9   0.124667  "
      ]
     },
     "execution_count": 181,
     "metadata": {},
     "output_type": "execute_result"
    }
   ],
   "source": [
    "#Extract Feature Importance\n",
    "feat_impts = [vectorizer.get_feature_names_out()]\n",
    "\n",
    "for c in clf.estimators_:\n",
    "    feat_impts.append(c.coef_.flatten())\n",
    "\n",
    "df_feat_impts = pd.DataFrame(np.transpose(np.array(feat_impts)), columns=['Feature']+['Amendments']+['Counterparts']+ \n",
    "                                                                           ['Governing Laws']+['Government Regulations']+\n",
    "                                                                           ['Terminations']+['Trade Relations']+\n",
    "                                                                           ['Trading Activities']+['Valid Issuances']+\n",
    "                                                                           ['Waivers']+['Warranties'])\n",
    "df_feat_impts.head(10)"
   ]
  },
  {
   "cell_type": "code",
   "execution_count": 185,
   "id": "0fc35819",
   "metadata": {},
   "outputs": [
    {
     "data": {
      "image/png": "[encoded data removed]",
      "text/plain": [
       "<Figure size 576x1584 with 10 Axes>"
      ]
     },
     "metadata": {
      "needs_background": "light"
     },
     "output_type": "display_data"
    }
   ],
   "source": [
    "#Filter Feature Importance for Each Class\n",
    "waivers_fi = df_feat_impts[[\"Feature\", \"Amendments\"]].sort_values(by=\"Amendments\", ascending=False).head(7)\n",
    "gl_fi = df_feat_impts[[\"Feature\", \"Counterparts\"]].sort_values(by=\"Counterparts\", ascending=False).head(7)\n",
    "amendments_fi = df_feat_impts[[\"Feature\", \"Governing Laws\"]].sort_values(by=\"Governing Laws\", ascending=False).head(7)\n",
    "counterparts_fi = df_feat_impts[[\"Feature\", \"Government Regulations\"]].sort_values(by=\"Government Regulations\", ascending=False).head(7)\n",
    "warranties_fi = df_feat_impts[[\"Feature\", \"Terminations\"]].sort_values(by=\"Terminations\", ascending=False).head(7)\n",
    "terminations_fi = df_feat_impts[[\"Feature\", \"Trade Relations\"]].sort_values(by=\"Trade Relations\", ascending=False).head(7)\n",
    "vi_fi = df_feat_impts[[\"Feature\", \"Trading Activities\"]].sort_values(by=\"Trading Activities\", ascending=False).head(7)\n",
    "gr_fi = df_feat_impts[[\"Feature\", \"Valid Issuances\"]].sort_values(by=\"Valid Issuances\", ascending=False).head(7)\n",
    "tr_fi = df_feat_impts[[\"Feature\", \"Waivers\"]].sort_values(by=\"Waivers\", ascending=False).head(7)\n",
    "ta_fi = df_feat_impts[[\"Feature\", \"Warranties\"]].sort_values(by=\"Warranties\", ascending=False).head(7)\n",
    "\n",
    "#Plot Feature Importance for Each Class\n",
    "fix, ax = plt.subplots(10, 1, figsize=(10,22))\n",
    "sns.barplot(y='Feature', x=\"Amendments\", ax=ax[0], data=waivers_fi).set(title='Amendments')\n",
    "sns.barplot(y='Feature', x=\"Counterparts\", ax=ax[1], data=gl_fi).set(title='Counterparts')\n",
    "sns.barplot(y='Feature', x=\"Governing Laws\", ax=ax[2], data=amendments_fi).set(title='Governing Laws')\n",
    "sns.barplot(y='Feature', x=\"Government Regulations\", ax=ax[3], data=counterparts_fi).set(title='Government Regulations')\n",
    "sns.barplot(y='Feature', x=\"Terminations\", ax=ax[4], data=warranties_fi).set(title='Terminations')\n",
    "sns.barplot(y='Feature', x=\"Trade Relations\", ax=ax[5], data=terminations_fi).set(title='Trade Relations')\n",
    "sns.barplot(y='Feature', x=\"Trading Activities\", ax=ax[6], data=vi_fi).set(title='Trading Activities')\n",
    "sns.barplot(y='Feature', x=\"Valid Issuances\", ax=ax[7], data=gr_fi).set(title='Valid Issuances')\n",
    "sns.barplot(y='Feature', x=\"Waivers\", ax=ax[8], data=tr_fi).set(title='Waivers')\n",
    "sns.barplot(y='Feature', x=\"Warranties\", ax=ax[9], data=ta_fi).set(title='Warranties')\n",
    "plt.show()"
   ]
  },
  {
   "cell_type": "markdown",
   "id": "a3c1df41",
   "metadata": {},
   "source": [
    "#### Hyperparameter Tuning\n",
    "Even though our classification accuracy is high, it is good practice to explore hyperparameter tuning to see if we can achieve even better results. Below, we explore two hyperparameters to tune: <code>max_features</code> and the classifier <code>clf</code>. While we could be rigorous and perform a grid search based on permutations of the selected hyperparameters, we show a simpler example of selecting the optimal parameter stepwise. "
   ]
  },
  {
   "cell_type": "code",
   "execution_count": 195,
   "id": "b69c4560",
   "metadata": {},
   "outputs": [
    {
     "data": {
      "image/png": "[encoded data removed]",
      "text/plain": [
       "<Figure size 432x288 with 1 Axes>"
      ]
     },
     "metadata": {
      "needs_background": "light"
     },
     "output_type": "display_data"
    }
   ],
   "source": [
    "#Tune Number of Features (this code chunk takes about 2mins to run)\n",
    "accuracy_feat = []\n",
    "n_feat = range(500,4500,500)\n",
    "\n",
    "for n in n_feat:\n",
    "    vectorizer = TfidfVectorizer(max_features=n, ngram_range=(1, 1))\n",
    "    X_train_vec = vectorizer.fit_transform(X_train)\n",
    "    X_test_vec = vectorizer.transform(X_test)\n",
    "    clf.fit(X_train_vec, y_train)\n",
    "    accuracy_feat.append(clf.score(X_test_vec, y_test))\n",
    "\n",
    "plt.plot(n_feat, accuracy_feat)\n",
    "plt.xlabel(\"number of features\")\n",
    "plt.ylabel(\"accuracy\")\n",
    "plt.show()"
   ]
  },
  {
   "cell_type": "markdown",
   "id": "04eef29e",
   "metadata": {},
   "source": [
    "From the plot above, we can tell that the optimal number of features to use was about 3,500. This yields a slightly better accuracy of 0.96437, which is about 0.1% better than the earlier classifier."
   ]
  },
  {
   "cell_type": "code",
   "execution_count": 199,
   "id": "bdfee06d",
   "metadata": {},
   "outputs": [
    {
     "data": {
      "image/png": "[encoded data removed]",
      "text/plain": [
       "<Figure size 432x288 with 1 Axes>"
      ]
     },
     "metadata": {
      "needs_background": "light"
     },
     "output_type": "display_data"
    }
   ],
   "source": [
    "#Tune ngrams\n",
    "\n",
    "#initialise TF-IDF model with optimal number of features but different ngram ranges\n",
    "vectorizer1 = TfidfVectorizer(max_features=3500, ngram_range=(1, 1))\n",
    "vectorizer2 = TfidfVectorizer(max_features=3500, ngram_range=(1, 2))\n",
    "vectorizer3 = TfidfVectorizer(max_features=3500, ngram_range=(2, 2))\n",
    "\n",
    "#store variables in arrays for iterating and plotting\n",
    "vecs = [vectorizer1, vectorizer2, vectorizer3]\n",
    "accuracy_vec = []\n",
    "\n",
    "for v in vecs:\n",
    "    X_train_vec = v.fit_transform(X_train)\n",
    "    X_test_vec = v.transform(X_test)\n",
    "    clf.fit(X_train_vec, y_train)\n",
    "    accuracy_vec.append(clf.score(X_test_vec, y_test))\n",
    "\n",
    "plt.plot([\"v1\", \"v2\", \"v3\"], accuracy_vec)\n",
    "plt.xlabel(\"ngrams\")\n",
    "plt.ylabel(\"accuracy\")\n",
    "plt.show()"
   ]
  },
  {
   "cell_type": "markdown",
   "id": "321fd9ed",
   "metadata": {},
   "source": [
    "ngrams are another popular NLP method where several words are treated as a single phrase. Using more bigrams (or trigrams and beyond) usually lead to better classification performance because some phrases can have very different and significant and meanings and compared to their constituent words. However, they are computationally more expensive because there are almost twice (or 3x and beyond) as many words/phrases that can be formed. From the plot above, we observe that v2 (a mix of both monograms and bigrams) lead to the highest accuracy of about 0.96787, which is about 0.3% higher than the preceding classifier."
   ]
  },
  {
   "cell_type": "markdown",
   "id": "c42ced43",
   "metadata": {},
   "source": [
    "#### Conclusion\n",
    "To sum up the work done in this notebook, we have analysed the dataset containing contract provisions and their labels, and created a multinomial classification model to predict the label of a contract given its provision. We explained the thinking behind our pre-processing and adopted the TF-IDF logistic model as our classifier. We also used various error metrics (ROC, accuracy, confusion matrix, F1-scores) to evaluate our model and critically examined the important features to assess if the model was sensible. Finally, we explored hyperparameter tuning to push up the classification accuracy of our model.\n",
    "\n",
    "There are many ways where this NLP analysis could be improved:\n",
    " - <b>Hyperparameters:</b> there are still many hyperparameters left to tune, and a rigorous approach would do a grid search of $n \\times n$ permutations for $n$ hyperparameters to find the globally optimal hyperparameter configuration.\n",
    " - <b>Memory and runtime constraints:</b> this analysis primarily considers accuracy as our main KPI. However, in practice, memory and runtime considerations should also be accounted for.\n",
    " - <b>Model selection:</b> It is customary to explore a range of classifiers before selecting the most optimal one. Here, we only consider the logistic model, but Naive Bayes has also been known to handle text processing well and was the staple algorithm for spam filtering in the past. Similarly, although we only used the TF-IDF approach here, there are also other NLP approaches which we could have adopted such as ngrams, other vectorisers, or string similarity analysis. \n",
    " - <b>LLMs:</b> The hype of ChatGPT and BERT have made Large Language Models more prominent, and they have proven themselves to be extremely powerful tools. These models operate on the concept of embeddings, which are known to account for the semantic meaning of words far better than NLP approaches. As this exercise was designed to test my NLP aptitude, LLM approaches were not adopted. However, the author has some experience in this area and will be happy to discuss it further."
   ]
  },
  {
   "cell_type": "markdown",
   "id": "b8b25e57",
   "metadata": {},
   "source": [
    "# <font color=\"blue\">Part B</font>"
   ]
  },
  {
   "cell_type": "markdown",
   "id": "30a7721f",
   "metadata": {},
   "source": [
    "## Guideline:"
   ]
  },
  {
   "cell_type": "markdown",
   "id": "c34925a4",
   "metadata": {},
   "source": [
    "**STEP 1: DATA PREPARATION**  \n",
    "\n",
    "- Download the CUAD dataset here: https://www.atticusprojectai.org/cuad\n",
    "- Read the CUAD's [Datasheet](https://drive.google.com/drive/u/0/folders/1Yu-JnZj1LbVBfTdPiHfMDnaKZj4eqks8) and understand the format of the data."
   ]
  },
  {
   "cell_type": "markdown",
   "id": "7a4ac35b",
   "metadata": {},
   "source": [
    "**STEP 2: MODELLING**  \n",
    "- Train a machine learning model to extract expiry date from a given plaintext contract. To account for model explainability, you may also train a model to first extract the relevant clause from a contract by outputting start and end tokens, and then extract the expiry date using a rule-based extractor. \n",
    "- Perform your own train-test split.\n",
    "- Choose your own evaluation metrics and explain your choice(s)\n",
    "- Feel feel to employ whichever modelling techniques you see fit, e.g. question answering, custom-NER, etc.\n",
    "- We highly recommend you to read CUAD's paper on arxiv: [CUAD: An Expert-Annotated NLP Dataset for Legal Contract Review](https://arxiv.org/abs/2103.06268)\n",
    "\n",
    "- You may refer to, and/or copy code blocks from any public Github repositories, Kaggle kernels or tutorials online. However, please add a comment indicating the source.\n",
    "- You are free to conduct exploratory data analysis, write unit tests or any other additional steps as you find neccesary.\n",
    "- The purpose is NOT to train the best-performing model. It is to help us assess your ability to learn and apply NLP modelling techniques."
   ]
  },
  {
   "cell_type": "markdown",
   "id": "b777dbbe",
   "metadata": {},
   "source": [
    "## Answer:"
   ]
  },
  {
   "cell_type": "code",
   "execution_count": null,
   "id": "373a813e",
   "metadata": {},
   "outputs": [],
   "source": [
    "# Begin your code here\n",
    "\n",
    "\n"
   ]
  }
 ],
 "metadata": {
  "kernelspec": {
   "display_name": "Python 3 (ipykernel)",
   "language": "python",
   "name": "python3"
  },
  "language_info": {
   "codemirror_mode": {
    "name": "ipython",
    "version": 3
   },
   "file_extension": ".py",
   "mimetype": "text/x-python",
   "name": "python",
   "nbconvert_exporter": "python",
   "pygments_lexer": "ipython3",
   "version": "3.9.12"
  }
 },
 "nbformat": 4,
 "nbformat_minor": 5
}
