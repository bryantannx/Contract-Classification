{
 "cells": [
  {
   "cell_type": "markdown",
   "id": "2b819fbf",
   "metadata": {},
   "source": [
    "## Deployment of ML Model\n",
    "In this notebook we deploy the ML model developed earlier on our local server using Flask. "
   ]
  },
  {
   "cell_type": "code",
   "execution_count": 1,
   "id": "b2c68255",
   "metadata": {},
   "outputs": [],
   "source": [
    "# Set Up Notebook\n",
    "import numpy as np\n",
    "import pandas as pd\n",
    "import seaborn as sns\n",
    "import matplotlib.pyplot as plt\n",
    "\n",
    "from sklearn.utils import shuffle\n",
    "from sklearn.model_selection import train_test_split\n",
    "from sklearn.feature_extraction.text import TfidfVectorizer\n",
    "from sklearn.multioutput import MultiOutputClassifier\n",
    "from sklearn.linear_model import LogisticRegression\n",
    "\n",
    "import joblib"
   ]
  },
  {
   "cell_type": "code",
   "execution_count": 2,
   "id": "89d970df",
   "metadata": {},
   "outputs": [],
   "source": [
    "# Read Input File\n",
    "csv = pd.read_csv(\"../data/contract_dataset_v20220109.csv\")\n",
    "csv = csv.drop(columns=['source', 'Contract_Dates', 'Passwords'])"
   ]
  },
  {
   "cell_type": "code",
   "execution_count": 3,
   "id": "05a56df5",
   "metadata": {},
   "outputs": [],
   "source": [
    "valid = \"abcdefghijklmnopqrstuvwxyz \" #define list of valid characters\n",
    "\n",
    "def clean_text(data):\n",
    "    \"\"\"\n",
    "    This function takes in a dataframe with the column \"label\". It cleans the text for each row in that column, and replaces the\n",
    "    column \"label\" with the cleaned column before returning the dataframe.\n",
    "    \"\"\"\n",
    "    output = [] #define variable to store cleaned text\n",
    "    \n",
    "    for line in data[\"provision\"]:\n",
    "        line = line.lower()\n",
    "        cleaned_line = ''.join(c for c in line if c in valid) #join valid characters together\n",
    "        output.append(cleaned_line)\n",
    "    data[\"provision\"] = output #update dataframe column with cleaned output array\n",
    "    \n",
    "    return data"
   ]
  },
  {
   "cell_type": "code",
   "execution_count": 4,
   "id": "79382972",
   "metadata": {},
   "outputs": [
    {
     "data": {
      "text/html": [
       "<div>\n",
       "<style scoped>\n",
       "    .dataframe tbody tr th:only-of-type {\n",
       "        vertical-align: middle;\n",
       "    }\n",
       "\n",
       "    .dataframe tbody tr th {\n",
       "        vertical-align: top;\n",
       "    }\n",
       "\n",
       "    .dataframe thead th {\n",
       "        text-align: right;\n",
       "    }\n",
       "</style>\n",
       "<table border=\"1\" class=\"dataframe\">\n",
       "  <thead>\n",
       "    <tr style=\"text-align: right;\">\n",
       "      <th></th>\n",
       "      <th>provision</th>\n",
       "      <th>label</th>\n",
       "    </tr>\n",
       "  </thead>\n",
       "  <tbody>\n",
       "    <tr>\n",
       "      <th>0</th>\n",
       "      <td>borrower and any endorsers or guarantors hereo...</td>\n",
       "      <td>['waivers']</td>\n",
       "    </tr>\n",
       "    <tr>\n",
       "      <th>1</th>\n",
       "      <td>no failure to exercise and no delay in exercis...</td>\n",
       "      <td>['waivers']</td>\n",
       "    </tr>\n",
       "    <tr>\n",
       "      <th>2</th>\n",
       "      <td>until the discharge of senior lender claims ha...</td>\n",
       "      <td>['waivers']</td>\n",
       "    </tr>\n",
       "    <tr>\n",
       "      <th>3</th>\n",
       "      <td>neither party shall be deemed to have waived a...</td>\n",
       "      <td>['waivers']</td>\n",
       "    </tr>\n",
       "    <tr>\n",
       "      <th>4</th>\n",
       "      <td>no waiver of the provisions hereof shall be va...</td>\n",
       "      <td>['waivers']</td>\n",
       "    </tr>\n",
       "  </tbody>\n",
       "</table>\n",
       "</div>"
      ],
      "text/plain": [
       "                                           provision        label\n",
       "0  borrower and any endorsers or guarantors hereo...  ['waivers']\n",
       "1  no failure to exercise and no delay in exercis...  ['waivers']\n",
       "2  until the discharge of senior lender claims ha...  ['waivers']\n",
       "3  neither party shall be deemed to have waived a...  ['waivers']\n",
       "4  no waiver of the provisions hereof shall be va...  ['waivers']"
      ]
     },
     "execution_count": 4,
     "metadata": {},
     "output_type": "execute_result"
    }
   ],
   "source": [
    "# Clean Data\n",
    "clean_csv = clean_text(csv)\n",
    "clean_csv.head()"
   ]
  },
  {
   "cell_type": "code",
   "execution_count": 5,
   "id": "baa813ec",
   "metadata": {},
   "outputs": [
    {
     "data": {
      "text/plain": [
       "MultiOutputClassifier(estimator=LogisticRegression(class_weight='balanced',\n",
       "                                                   max_iter=5000))"
      ]
     },
     "execution_count": 5,
     "metadata": {},
     "output_type": "execute_result"
    }
   ],
   "source": [
    "# Train Classifier (on entire dataset)\n",
    "clean_csv = pd.get_dummies(clean_csv, prefix=['lab'], columns=['label']) #perform encoding for multi-class classification\n",
    "X = clean_csv['provision']\n",
    "y = clean_csv.drop('provision', axis=1)\n",
    "\n",
    "vectorizer = TfidfVectorizer(max_features=3500, ngram_range=(1,2)) #initialise TF-IDF model with optimal parameters\n",
    "X_train_vec = vectorizer.fit_transform(X) #fit vectoriser\n",
    "clf = MultiOutputClassifier(LogisticRegression(class_weight='balanced', max_iter=5000)) #initialise logistic classifier\n",
    "clf.fit(X_train_vec, y)"
   ]
  },
  {
   "cell_type": "code",
   "execution_count": 6,
   "id": "571a6bac",
   "metadata": {},
   "outputs": [
    {
     "data": {
      "text/plain": [
       "['vec.pkl']"
      ]
     },
     "execution_count": 6,
     "metadata": {},
     "output_type": "execute_result"
    }
   ],
   "source": [
    "# Save Feature Selector to a File\n",
    "joblib.dump(vectorizer, \"vec.pkl\")"
   ]
  },
  {
   "cell_type": "code",
   "execution_count": 7,
   "id": "8c92a48e",
   "metadata": {},
   "outputs": [
    {
     "data": {
      "text/plain": [
       "['clf_model.pkl']"
      ]
     },
     "execution_count": 7,
     "metadata": {},
     "output_type": "execute_result"
    }
   ],
   "source": [
    "# Save Classifier to a File\n",
    "joblib.dump(clf, \"clf_model.pkl\")"
   ]
  }
 ],
 "metadata": {
  "kernelspec": {
   "display_name": "Python 3 (ipykernel)",
   "language": "python",
   "name": "python3"
  },
  "language_info": {
   "codemirror_mode": {
    "name": "ipython",
    "version": 3
   },
   "file_extension": ".py",
   "mimetype": "text/x-python",
   "name": "python",
   "nbconvert_exporter": "python",
   "pygments_lexer": "ipython3",
   "version": "3.9.12"
  }
 },
 "nbformat": 4,
 "nbformat_minor": 5
}
